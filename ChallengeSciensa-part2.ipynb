{
 "cells": [
  {
   "cell_type": "code",
   "execution_count": null,
   "metadata": {},
   "outputs": [],
   "source": [
    "import pandas as pd\n",
    "from functools import reduce\n",
    "import operator "
   ]
  },
  {
   "cell_type": "code",
   "execution_count": null,
   "metadata": {},
   "outputs": [],
   "source": [
    "fileName = 'data.json'\n",
    "df = pd.read_json(fileName, lines=True, dtype={'fullVisitorId': pd.Int64Dtype})\n",
    "\n",
    "# Verifica se uma chave está presente em um campo\n",
    "def check(attr, field):\n",
    "    return field in attr\n",
    "\n",
    "df.head(3)"
   ]
  },
  {
   "cell_type": "markdown",
   "metadata": {},
   "source": [
    "### Criacao do id unico"
   ]
  },
  {
   "cell_type": "code",
   "execution_count": null,
   "metadata": {},
   "outputs": [],
   "source": [
    "# Criacao do id unico\n",
    "df['id'] = df.apply (lambda row: '{}-{}'.format(row['fullVisitorId'],row['visitId']), axis=1)\n",
    "\n",
    "df[['fullVisitorId','visitId','id']]"
   ]
  },
  {
   "cell_type": "markdown",
   "metadata": {},
   "source": [
    "### Contagem de pageviews"
   ]
  },
  {
   "cell_type": "code",
   "execution_count": null,
   "metadata": {},
   "outputs": [],
   "source": [
    "data = df['totals']\n",
    "\n",
    "def total(line): \n",
    "    views = 0\n",
    "    if ( 'pageviews' in line ):\n",
    "        views = line['pageviews']\n",
    "\n",
    "    return int(views)\n",
    "    \n",
    "sumPageViews = reduce( operator.add, list(map(total, data)))\n",
    "\n",
    "sumPageViews"
   ]
  },
  {
   "cell_type": "code",
   "execution_count": null,
   "metadata": {},
   "outputs": [],
   "source": [
    "# Número de sessoes por usuário     \n",
    "sessionByUser = pd.DataFrame({'qttSessions' : df.groupby('visitId').agg('size')})\n",
    "sessionByUser"
   ]
  },
  {
   "cell_type": "markdown",
   "metadata": {},
   "source": [
    "### Numero de sessoes distintas por dia"
   ]
  },
  {
   "cell_type": "code",
   "execution_count": null,
   "metadata": {},
   "outputs": [],
   "source": [
    "# Numero de sessoes distintas por dia\n",
    "distinctSessionsByDate = pd.DataFrame({'count' : df.groupby(['date']).agg('size')}).reset_index()\n",
    "distinctSessionsByDate"
   ]
  },
  {
   "cell_type": "markdown",
   "metadata": {},
   "source": [
    "### Sessões diárias por tipo de browser"
   ]
  },
  {
   "cell_type": "code",
   "execution_count": null,
   "metadata": {
    "scrolled": true
   },
   "outputs": [],
   "source": [
    "# Sessões diárias por tipo de browser\n",
    "data = df[['date','device']]\n",
    "\n",
    "# Simplifica coluna\n",
    "dailySessions = data.assign(browser=data['device'].map( lambda row: row['browser']))\n",
    "dailySessions = dailySessions.groupby(['date'])\n",
    "dailySessionsByBrowser = dailySessions.apply(lambda dateGroup: dateGroup.groupby('browser').size() )\n",
    "\n",
    "dailySessionsByBrowser"
   ]
  },
  {
   "cell_type": "markdown",
   "metadata": {},
   "source": [
    "### Média do tempo da sessao por data"
   ]
  },
  {
   "cell_type": "code",
   "execution_count": null,
   "metadata": {},
   "outputs": [],
   "source": [
    "# Média do tempo da sessao por data\n",
    "data = df[['date','totals']]\n",
    "\n",
    "# Filtra pelas linhas cujo campo totals contêm 'timeOnSite'\n",
    "data = data[data['totals'].apply(check,args=('timeOnSite',))]\n",
    "\n",
    "# Simplifica coluna\n",
    "sessionTime = data.assign(totals=data['totals'].map(lambda row: int(row['timeOnSite'])))\n",
    "\n",
    "sessionTimeByDate = sessionTime.groupby(['date']).mean()\n",
    "\n",
    "sessionTimeByDate"
   ]
  }
 ],
 "metadata": {
  "kernelspec": {
   "display_name": "Python 3",
   "language": "python",
   "name": "python3"
  },
  "language_info": {
   "codemirror_mode": {
    "name": "ipython",
    "version": 3
   },
   "file_extension": ".py",
   "mimetype": "text/x-python",
   "name": "python",
   "nbconvert_exporter": "python",
   "pygments_lexer": "ipython3",
   "version": "3.8.5"
  }
 },
 "nbformat": 4,
 "nbformat_minor": 4
}
